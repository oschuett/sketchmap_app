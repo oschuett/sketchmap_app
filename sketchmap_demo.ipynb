{
 "cells": [
  {
   "cell_type": "markdown",
   "metadata": {},
   "source": [
    "# Sketchmap Demo"
   ]
  },
  {
   "cell_type": "code",
   "execution_count": null,
   "metadata": {
    "collapsed": true
   },
   "outputs": [],
   "source": [
    "import os\n",
    "import os.path\n",
    "import re\n",
    "import time\n",
    "import threading\n",
    "import subprocess\n",
    "\n",
    "import ipywidgets as widgets\n",
    "from IPython.display import display"
   ]
  },
  {
   "cell_type": "code",
   "execution_count": null,
   "metadata": {
    "collapsed": true
   },
   "outputs": [],
   "source": [
    "glosim_fn = \"glosim.out\"\n",
    "glosim_process = None\n",
    "\n",
    "def glosim_output_worker():\n",
    "    pre_tag = '<pre style=\"width:600px; max-height:250px; overflow-x:auto; line-height:1em; font-size:0.8em;\">'   \n",
    "    while(True):\n",
    "        if os.path.exists(glosim_fn):\n",
    "            output = open(glosim_fn).read() # TODO seek forward\n",
    "            output = output.strip(\"\\r\")\n",
    "            output = re.sub(\"\\n.*\\r\", \"\\n\", output)\n",
    "            output_area.value = pre_tag + output + '</pre>'\n",
    "        if(glosim_process.poll() != None):\n",
    "            break\n",
    "        time.sleep(1)\n",
    "    btn_startstop.description=\"Start glosim\"\n",
    "\n",
    "def start_glosim():\n",
    "    global glosim_process\n",
    "    btn_startstop.description=\"Stop glosim\"\n",
    "    \n",
    "    if os.path.exists(glosim_fn):\n",
    "        os.remove(glosim_fn)\n",
    "    logfile = open(glosim_fn, \"w\")\n",
    "    cmd = \"glosim.py traj.lys.dipeptide.bare.xyz -n 10 -l 8 -c 3.5 --kernel fastavg --distance --periodic --nonorm --np 2 --nlandmarks 300\"\n",
    "    glosim_process = subprocess.Popen(cmd.split(), stdout=logfile, stderr=logfile)\n",
    "    \n",
    "    # start output thread\n",
    "    threading.Thread(target=glosim_output_worker).start() "
   ]
  },
  {
   "cell_type": "code",
   "execution_count": null,
   "metadata": {
    "collapsed": true
   },
   "outputs": [],
   "source": [
    "def on_click_startstop(e):\n",
    "    if(btn_startstop.description.startswith(\"Start glosim\")):\n",
    "        start_glosim()\n",
    "    else:\n",
    "        glosim_process.kill()\n",
    "     \n",
    "btn_startstop = widgets.Button(description=\"Start glosim\")\n",
    "btn_startstop.on_click(on_click_startstop)\n",
    "output_area = widgets.HTML()\n",
    "\n",
    "display(widgets.VBox([btn_startstop, output_area]))"
   ]
  }
 ],
 "metadata": {
  "kernelspec": {
   "display_name": "Python 2",
   "language": "python",
   "name": "python2"
  },
  "language_info": {
   "codemirror_mode": {
    "name": "ipython",
    "version": 2
   },
   "file_extension": ".py",
   "mimetype": "text/x-python",
   "name": "python",
   "nbconvert_exporter": "python",
   "pygments_lexer": "ipython2",
   "version": "2.7.13"
  },
  "widgets": {
   "state": {
    "e0c259e4747b43b88229c62d559c8d34": {
     "views": [
      {
       "cell_index": 3
      }
     ]
    }
   },
   "version": "1.2.0"
  }
 },
 "nbformat": 4,
 "nbformat_minor": 2
}
