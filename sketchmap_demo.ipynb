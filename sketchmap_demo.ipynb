{
 "cells": [
  {
   "cell_type": "markdown",
   "metadata": {},
   "source": [
    "# Sketchmap Demo"
   ]
  },
  {
   "cell_type": "code",
   "execution_count": null,
   "metadata": {
    "collapsed": true
   },
   "outputs": [],
   "source": [
    "import os\n",
    "from os import path\n",
    "import re\n",
    "import time\n",
    "import threading\n",
    "import subprocess\n",
    "\n",
    "import ipywidgets as widgets\n",
    "from IPython.display import display"
   ]
  },
  {
   "cell_type": "code",
   "execution_count": null,
   "metadata": {
    "collapsed": false
   },
   "outputs": [],
   "source": [
    "log_fn = \"sketchmap.log\"\n",
    "process = None\n",
    "\n",
    "def output_worker():\n",
    "    pre_tag = '<pre style=\"width:600px; max-height:250px; overflow-x:auto; line-height:1em; font-size:0.8em;\">'   \n",
    "    dots = 0\n",
    "    latest = \"\"\n",
    "    while(process.poll() == None):\n",
    "        time.sleep(1)\n",
    "        # update output window\n",
    "        if os.path.exists(log_fn):\n",
    "            full = open(log_fn).read() # TODO seek forward\n",
    "            full = re.sub(\"\\n.*\\r\", \"\\n\", full.strip(\"\\r\")) # handle carriage return\n",
    "            output = \"\\n\".join(full.split(\"\\n\")[-20:]) #last 100 lines\n",
    "        else:\n",
    "            output = \"\"\n",
    "        dots += 1\n",
    "        if(latest!=output): # new output\n",
    "            dots = 0 # rest dot counter\n",
    "        latest = output\n",
    "        output += \"\\n\" + (\".\"*dots) + \"\\n\"\n",
    "        output_area.value = pre_tag + output + '</pre>'\n",
    "    \n",
    "    # read one last time entirely\n",
    "    output = open(log_fn).read()\n",
    "    output = re.sub(\"\\n.*\\r\", \"\\n\", output.strip(\"\\r\")) # handle carriage return\n",
    "    output += \"\\n\\nProcess finished, exit code: %s\"%process.returncode\n",
    "    output_area.value = pre_tag + output + '</pre>'\n",
    "    btn_startstop.description=\"Start\"\n",
    "    \n",
    "def start_process():\n",
    "    global process\n",
    "    btn_startstop.description=\"Stop\"\n",
    "    logfile = open(log_fn, \"w\")\n",
    "    cmd = [\"./create_new_sketchmap.sh\", \"traj.lys.dipeptide.bare\"]\n",
    "    process = subprocess.Popen(cmd, stdout=logfile, stderr=logfile)\n",
    "    threading.Thread(target=output_worker).start() \n",
    "    \n",
    "def on_click_startstop(e):\n",
    "    if(btn_startstop.description.startswith(\"Start\")):\n",
    "        start_process()\n",
    "    else:\n",
    "        process.kill()\n",
    "     \n",
    "btn_startstop = widgets.Button(description=\"Start\")\n",
    "btn_startstop.on_click(on_click_startstop)\n",
    "output_area = widgets.HTML()\n",
    "display(widgets.VBox([btn_startstop, output_area]))"
   ]
  }
 ],
 "metadata": {
  "kernelspec": {
   "display_name": "Python 2",
   "language": "python",
   "name": "python2"
  },
  "language_info": {
   "codemirror_mode": {
    "name": "ipython",
    "version": 2
   },
   "file_extension": ".py",
   "mimetype": "text/x-python",
   "name": "python",
   "nbconvert_exporter": "python",
   "pygments_lexer": "ipython2",
   "version": "2.7.13"
  },
  "widgets": {
   "state": {
    "8ed0f88c7e514168abc2b92908900a9b": {
     "views": [
      {
       "cell_index": 2
      }
     ]
    }
   },
   "version": "1.2.0"
  }
 },
 "nbformat": 4,
 "nbformat_minor": 2
}
